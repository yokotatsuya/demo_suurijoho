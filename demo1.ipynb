{
  "nbformat": 4,
  "nbformat_minor": 0,
  "metadata": {
    "colab": {
      "name": "数理情報概論デモ１.ipynb",
      "provenance": [],
      "collapsed_sections": [],
      "toc_visible": true
    },
    "kernelspec": {
      "name": "python3",
      "display_name": "Python 3"
    }
  },
  "cells": [
    {
      "cell_type": "markdown",
      "metadata": {
        "id": "2Qn9hL8Y8nDo"
      },
      "source": [
        "# １．データ入力と可視化\r\n",
        "ここではデータの入力ができます．<br>\r\n",
        "既に，$\\boldsymbol{x} = [x_1, x_2, ..., x_n]^\\top$，$\\boldsymbol{y} = [y_1, y_2, ..., y_n]^\\top$のそれぞれに値が入っていますが，以下のコードを書き替えて実行ボタン(左にある▷ボタン)を押すことで$\\boldsymbol{x}$，$\\boldsymbol{y}$を再定義できます．"
      ]
    },
    {
      "cell_type": "code",
      "metadata": {
        "id": "5PS3f_t841B_"
      },
      "source": [
        "x = [1, 2, 3, 3, 4, 5]\r\n",
        "y = [2, 1, 4, 3, 4, 4]"
      ],
      "execution_count": 1,
      "outputs": []
    },
    {
      "cell_type": "code",
      "metadata": {
        "id": "Pj10fUnJvUG9",
        "colab": {
          "base_uri": "https://localhost:8080/",
          "height": 287
        },
        "cellView": "form",
        "outputId": "f0d9ab1d-0ea8-483e-c3de-530f08fe7368"
      },
      "source": [
        "#@title 散布図でデータを表示する\n",
        "%matplotlib inline\n",
        "import numpy as np\n",
        "import matplotlib.pyplot as plt\n",
        "\n",
        "x = np.array(x)\n",
        "y = np.array(y)\n",
        "\n",
        "plt.scatter(x, y)\n",
        "plt.xlabel('x', fontsize=18)\n",
        "plt.ylabel('y', fontsize=18)\n",
        "plt.grid(True)"
      ],
      "execution_count": 2,
      "outputs": [
        {
          "output_type": "display_data",
          "data": {
            "image/png": "[encoded data removed]",
            "text/plain": [
              "<Figure size 432x288 with 1 Axes>"
            ]
          },
          "metadata": {
            "tags": [],
            "needs_background": "light"
          }
        }
      ]
    },
    {
      "cell_type": "markdown",
      "metadata": {
        "id": "emSwDeDZ5inh"
      },
      "source": [
        "# ２．代表値の計算\r\n",
        "\r\n",
        "$x$の平均：$\\bar{x} = \\frac{1}{n}\\sum_{i=1}^n x_i$ <br>\r\n",
        "$y$の平均：$\\bar{y} = \\frac{1}{n}\\sum_{i=1}^n y_i$ <br>\r\n",
        "$x$の分散：$S_{xx} = \\frac{1}{n}\\sum_{i=1}^n (x_i - \\bar{x})^2$ <br>\r\n",
        "$y$の分散：$S_{yy} = \\frac{1}{n}\\sum_{i=1}^n (y_i - \\bar{y})^2$ <br>\r\n",
        "$x,y$の共分散：$S_{xy} = \\frac{1}{n}\\sum_{i=1}^n (x_i - \\bar{x})(y_i - \\bar{y})$"
      ]
    },
    {
      "cell_type": "code",
      "metadata": {
        "colab": {
          "base_uri": "https://localhost:8080/"
        },
        "cellView": "form",
        "id": "are13x03CZt4",
        "outputId": "a3324e34-7d8f-423e-84b8-3f55884b7c40"
      },
      "source": [
        "#@title x，yの平均，分散，共分散を計算します．\n",
        "\n",
        "n = len(x) # ベクトルxの次元数\n",
        "x_mean = np.sum(x)/n\n",
        "y_mean = np.sum(y)/n\n",
        "x_var  = np.sum((x - x_mean)**2)/n\n",
        "y_var  = np.sum((y - y_mean)**2)/n\n",
        "cov_xy = np.sum((x - x_mean)*(y - y_mean))/n\n",
        "\n",
        "print(\"xの平均=%.2f\" % x_mean)\n",
        "print(\"yの平均=%.2f\" % y_mean)\n",
        "print(\"xの分散=%.2f\" % x_var)\n",
        "print(\"yの分散=%.2f\" % y_var)\n",
        "print(\"x,yの共分散=%.2f\" % cov_xy)"
      ],
      "execution_count": 3,
      "outputs": [
        {
          "output_type": "stream",
          "text": [
            "xの平均=3.00\n",
            "yの平均=3.00\n",
            "xの分散=1.67\n",
            "yの分散=1.33\n",
            "x,yの共分散=1.17\n"
          ],
          "name": "stdout"
        }
      ]
    },
    {
      "cell_type": "markdown",
      "metadata": {
        "id": "5nhc4XvvFuPH"
      },
      "source": [
        "# ３．線形回帰\r\n",
        "線形回帰モデル $y = \\beta_0 + \\beta_1 x$ の係数を最小二乗法によって求め，直線を描画します．また，決定係数を算出します．それぞれの計算式は以下です．<br>\r\n",
        "切片：$\\hat{\\beta}_0 = \\bar{y} - \\frac{S_{xy}}{S_{xx}} \\bar{x}$ <br>\r\n",
        "傾き：$\\hat{\\beta}_1 = \\frac{S_{xy}}{S_{xx}}$ <br>\r\n",
        "決定係数：$R^2 = \\frac{\\sum_{i=1}^n (\\hat{y}_i - \\bar{y})^2 }{ \\sum_{i=1}^n (y_i - \\bar{y})^2 }$"
      ]
    },
    {
      "cell_type": "code",
      "metadata": {
        "colab": {
          "base_uri": "https://localhost:8080/",
          "height": 338
        },
        "cellView": "form",
        "id": "GGazsEdRFt34",
        "outputId": "eaab3244-e78d-488a-af27-e747b6e33791"
      },
      "source": [
        "#@title 線形回帰と描画\n",
        "%matplotlib inline\n",
        "\n",
        "beta1 = cov_xy / x_var\n",
        "beta0 = y_mean - beta1 * x_mean\n",
        "S_reg = np.sum( (beta1*x + beta0 - y_mean)**2 )\n",
        "S_all = np.sum( (y - y_mean)**2 )\n",
        "R2    = S_reg / S_all\n",
        "\n",
        "print(\" 切片 = %.2f \" % beta0)\n",
        "print(\" 傾き = %.2f \" % beta1)\n",
        "print(\" 決定係数 = %.4f \" % R2)\n",
        "\n",
        "plt.scatter(x, y)\n",
        "plt.xlabel('x', fontsize=18)\n",
        "plt.ylabel('y', fontsize=18)\n",
        "plt.grid(True)\n",
        "\n",
        "#直線の描画\n",
        "x_lim = np.array([np.min(x)-1, np.max(x)+1])\n",
        "y_lim = beta0 + beta1*x_lim\n",
        "plt.plot(x_lim,y_lim, \"red\")\n",
        "plt.show()"
      ],
      "execution_count": 4,
      "outputs": [
        {
          "output_type": "stream",
          "text": [
            " 切片 = 0.90 \n",
            " 傾き = 0.70 \n",
            " 決定係数 = 0.6125 \n"
          ],
          "name": "stdout"
        },
        {
          "output_type": "display_data",
          "data": {
            "image/png": "[encoded data removed]",
            "text/plain": [
              "<Figure size 432x288 with 1 Axes>"
            ]
          },
          "metadata": {
            "tags": [],
            "needs_background": "light"
          }
        }
      ]
    },
    {
      "cell_type": "markdown",
      "metadata": {
        "id": "zNIKKY9-LrLG"
      },
      "source": [
        "お疲れさまでした．今回のデモは以上です．"
      ]
    }
  ]
}
